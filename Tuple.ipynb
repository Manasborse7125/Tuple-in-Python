{
 "cells": [
  {
   "cell_type": "markdown",
   "id": "17c36300-28d6-45f4-9e72-e8f5726545c9",
   "metadata": {},
   "source": [
    "# Tuple in python"
   ]
  },
  {
   "cell_type": "code",
   "execution_count": 9,
   "id": "6adc6c8c-1aa8-4970-a81d-23b56da759dc",
   "metadata": {},
   "outputs": [
    {
     "name": "stdout",
     "output_type": "stream",
     "text": [
      "<class 'tuple'>\n",
      "10\n",
      "Manas\n"
     ]
    },
    {
     "data": {
      "text/plain": [
       "9"
      ]
     },
     "execution_count": 9,
     "metadata": {},
     "output_type": "execute_result"
    }
   ],
   "source": [
    "#Basic fundamentals of tuple\n",
    "tup=(1,43,7,23,0,-1,-7.26,True, 'Manas', 99)\n",
    "print(type(tup))\n",
    "print(len(tup))\n",
    "print(tup[8])\n",
    "tup.count(99)\n",
    "tup.index(99)"
   ]
  },
  {
   "cell_type": "code",
   "execution_count": 10,
   "id": "0d1d1777-a24b-49c7-80b9-dc7dead5abef",
   "metadata": {},
   "outputs": [
    {
     "name": "stdout",
     "output_type": "stream",
     "text": [
      "('Siraj', 'Virat', 'Abd', 'Maxwell', 'Dhoni', 'Ruturaj', 'Santar', 'jadeja')\n"
     ]
    }
   ],
   "source": [
    "#Adding of tuple\n",
    "rcb=('Siraj','Virat','Abd','Maxwell')\n",
    "csk=('Dhoni','Ruturaj','Santar','jadeja')\n",
    "ipl=rcb+csk\n",
    "print(ipl)"
   ]
  },
  {
   "cell_type": "code",
   "execution_count": 15,
   "id": "e687269e-70d1-4145-b26e-ab00bccb1803",
   "metadata": {},
   "outputs": [
    {
     "name": "stdout",
     "output_type": "stream",
     "text": [
      "('India', 1, 7, 23, 0, -7.26, True, 'Manas', 99, 101)\n",
      "<class 'tuple'>\n"
     ]
    }
   ],
   "source": [
    "#changes in tuple\n",
    "tup=(1,43,7,23,0,-1,-7.26,True, 'Manas', 99)\n",
    "temp=list(tup)\n",
    "temp.append(101)\n",
    "temp.pop(1)\n",
    "temp.insert(0,'India')\n",
    "temp.remove(-1)\n",
    "final=tuple(temp)\n",
    "print(final)\n",
    "print(type(final))"
   ]
  },
  {
   "cell_type": "code",
   "execution_count": null,
   "id": "663c437b-a7df-40eb-ad5d-6bac0b477435",
   "metadata": {},
   "outputs": [],
   "source": [
    "print(\"Done with Tuples\")"
   ]
  }
 ],
 "metadata": {
  "kernelspec": {
   "display_name": "Python 3 (ipykernel)",
   "language": "python",
   "name": "python3"
  },
  "language_info": {
   "codemirror_mode": {
    "name": "ipython",
    "version": 3
   },
   "file_extension": ".py",
   "mimetype": "text/x-python",
   "name": "python",
   "nbconvert_exporter": "python",
   "pygments_lexer": "ipython3",
   "version": "3.12.4"
  }
 },
 "nbformat": 4,
 "nbformat_minor": 5
}
